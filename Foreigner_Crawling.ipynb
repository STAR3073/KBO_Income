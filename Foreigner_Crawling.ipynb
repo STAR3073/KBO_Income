{
 "cells": [
  {
   "cell_type": "code",
   "execution_count": 2,
   "metadata": {},
   "outputs": [],
   "source": [
    "# 분석 모듈\n",
    "import pandas as pd\n",
    "import numpy as np\n",
    "import matplotlib.pyplot as plt\n",
    "import seaborn as sns\n",
    "import time\n",
    "from datetime import datetime\n",
    "\n",
    "# 크롤링 모듈\n",
    "from selenium import webdriver\n",
    "from bs4 import BeautifulSoup\n",
    "import re\n",
    "\n",
    "import os\n",
    "os.chdir('C:/BigData/SooDa/2021/2021_과제_3')"
   ]
  },
  {
   "cell_type": "code",
   "execution_count": 6,
   "metadata": {},
   "outputs": [
    {
     "name": "stdout",
     "output_type": "stream",
     "text": [
      "0 완료\n",
      "1 완료\n",
      "2 완료\n",
      "최종 완료\n"
     ]
    }
   ],
   "source": [
    "# 크롬 드라이버 실행\n",
    "driver = webdriver.Chrome('C:/Temp/chromedriver_win32/chromedriver.exe')\n",
    "\n",
    "for i in range(3):\n",
    "    \n",
    "    url = 'http://www.statiz.co.kr/stat.php?mid=stat&re=0&ys=1982&ye=2020&un=2&sn=100&pa={}'.format(i*100)\n",
    "    \n",
    "    driver.get(url)\n",
    "    driver.implicitly_wait(5)\n",
    "    \n",
    "    html = driver.find_element_by_xpath('//*[@id=\"mytable\"]/tbody').get_attribute(\"innerHTML\") # 기록 table을 str형태로 저장\n",
    "    soup = BeautifulSoup(html, 'html.parser') # str 객체를 BeautifulSoup 객체로 변경\n",
    "    \n",
    "    temp = [i.text.strip() for i in soup.findAll(\"tr\")] # tr 태그에서, text만 저장하기\n",
    "    temp = pd.Series(temp) # list 객체에서 series 객체로 변경\n",
    "    \n",
    "    #'순'이나 'W'로 시작하는 row 제거\n",
    "    # 즉, 선수별 기록만 남기고, index를 reset 해주기\n",
    "    temp = temp[~temp.str.match(\"[순W]\")].reset_index(drop=True) \n",
    "    \n",
    "    temp = temp.apply(lambda x: pd.Series(x.split(' '))) # 띄어쓰기 기준으로 나눠서 dataframe으로 변경\n",
    "    \n",
    "    # 선수 팀 정보 이후 첫번째 기록과는 space 하나로 구분, 그 이후로는 space 두개로 구분이 되어 있음. \n",
    "    # 그래서 space 하나로 구분을 시키면, 빈 column들이 존재 하는데, 해당 column들 제거 \n",
    "    temp = temp.replace('', np.nan).dropna(axis=1) \n",
    "    \n",
    "    # WAR 정보가 들어간 column이 2개 있다. (index가 1인 column과, 제일 마지막 column)\n",
    "    # 그 중에서 index가 1인 columm 제거 \n",
    "    temp = temp.drop(1, axis=1)\n",
    "    \n",
    "    # 선수 이름 앞의 숫자 제거\n",
    "    temp[0] = temp[0].str.replace(\"^\\d+\", '')\n",
    "\n",
    "    # 선수들의 생일 정보가 담긴 tag들 가지고 오기\n",
    "    birth = [i.find(\"a\") for i in soup.findAll('tr') if 'birth' in i.find('a').attrs['href']]\n",
    "    \n",
    "    # tag내에서, 생일 날짜만 추출하기 \n",
    "    p = re.compile(\"\\d{4}\\-\\d{2}\\-\\d{2}\")\n",
    "    birth = [p.findall(i.attrs['href'])[0] for i in birth]\n",
    "    \n",
    "    # 생일 column 추가\n",
    "    temp['생일'] = birth\n",
    "    \n",
    "    # page별 완성된 dataframe을 계속해서 result에 추가 시켜주기 \n",
    "    if i == 0:\n",
    "        result = temp\n",
    "    else:\n",
    "        result = result.append(temp)\n",
    "        result = result.reset_index(drop=True)\n",
    "        \n",
    "    print(i, \"완료\")\n",
    "        \n",
    "# column 명 정보 저장        \n",
    "columns = ['선수'] + [i.text for i in soup.findAll(\"tr\")[0].findAll(\"th\")][4:-3] + ['타율', '출루', '장타', 'OPS', 'wOBA', 'wRC+', 'WAR+', '생일']\n",
    "\n",
    "# column 명 추가\n",
    "result.columns = columns\n",
    "\n",
    "# webdriver 종료\n",
    "driver.close()\n",
    "\n",
    "print(\"최종 완료\")\n",
    "\n",
    "# 결과값 저장해두기\n",
    "result.to_csv('statiz_origin_foreigner_1982_2020.csv', encoding=\"utf-8-sig\")"
   ]
  },
  {
   "cell_type": "code",
   "execution_count": 11,
   "metadata": {},
   "outputs": [],
   "source": [
    "# 이름 분리 해서, '이름' column 추가\n",
    "data['이름'] = data['선수'].str.findall(\"^[ㄱ-힣]+\").apply(lambda x: x[0])\n",
    "\n",
    "# 기존 '선수' column 에 있던 이름 정보 제거\n",
    "data['선수'] = data.apply(lambda x: x['선수'].replace(x['이름'], ''), axis=1)\n",
    "\n",
    "# '시즌' column 생성\n",
    "data['시즌'] = data['선수'].apply(lambda x: x[:2])\n",
    "\n",
    "# 기존 '선수' column 에 있던 시즌 정보 제거\n",
    "data['선수'] = data.apply(lambda x: x['선수'].replace(x['시즌'],''), axis=1)\n",
    "\n",
    "# 년도를 4자리 숫자로 바꾸어주기 ex) 98 -> 1998, 15 -> 2015\n",
    "data['시즌'] = data['시즌'].apply(lambda x: int(\"20\"+ x) if int(x)<30 else int(\"19\"+x))\n",
    "\n",
    "# 포지션\n",
    "position = ['1B', '2B', '3B', 'SS', 'C', 'RF', 'LF', 'CF', 'DH'] \n",
    "\n",
    "# 포지션 여부 확인\n",
    "data['포지션여부'] = data['선수'].apply(lambda x : (np.isin(x[-2:], position) or np.isin(x[-1:], position))) \n",
    "\n",
    "# 포지션 분리\n",
    "data['포지션'] = data['선수'].apply(lambda x: x[-2:] if x[-2:] in position else x[-1:])\n",
    "\n",
    "# 포지션이 기록 되어 있지 않으면, 'M'값 넣기 \n",
    "data.loc[data['포지션여부']==False, '포지션'] = 'M'\n",
    "\n",
    "# 포지션이 N인 선수 삭제\n",
    "posi = data[data['포지션']=='M'].index\n",
    "data = data.drop(posi)"
   ]
  },
  {
   "cell_type": "code",
   "execution_count": 12,
   "metadata": {},
   "outputs": [],
   "source": [
    "# 팀 & 나이 column 생성\n",
    "data['팀'] = data.apply(lambda x: x['선수'].replace(x['포지션'],'') if type(x['포지션'])==str else x['선수'], axis=1)\n",
    "data['나이'] = data.apply(lambda x: x['시즌'] - int(x['생일'][:4]) + 1, axis=1)\n",
    "\n",
    "# 선수별 고유 아이디 부여\n",
    "info = data[['이름', '생일']].apply(lambda x: tuple(x), axis=1)\n",
    "\n",
    "player_id = {}\n",
    "for i,j in enumerate(info.unique()):\n",
    "    player_id[j] = i\n",
    "    \n",
    "data['ID'] = data.apply(lambda x: player_id[tuple([x['이름'], x['생일']])], axis=1)"
   ]
  },
  {
   "cell_type": "code",
   "execution_count": 13,
   "metadata": {},
   "outputs": [],
   "source": [
    "# numeric data로 변환\n",
    "float_columns = data.iloc[:,1:27].columns\n",
    "data[float_columns] = data[float_columns].astype(float).fillna(0)"
   ]
  },
  {
   "cell_type": "code",
   "execution_count": 14,
   "metadata": {},
   "outputs": [],
   "source": [
    "# 필요한 features 선택\n",
    "cols = ['이름', '생일']\n",
    "data = data[cols]\n",
    "\n",
    "# 전처리 완료된 데이터프레임 저장\n",
    "data.to_csv('foreigner_1982_2020.csv', encoding=\"utf-8-sig\")"
   ]
  },
  {
   "cell_type": "code",
   "execution_count": null,
   "metadata": {},
   "outputs": [],
   "source": []
  }
 ],
 "metadata": {
  "kernelspec": {
   "display_name": "Python 3",
   "language": "python",
   "name": "python3"
  },
  "language_info": {
   "codemirror_mode": {
    "name": "ipython",
    "version": 3
   },
   "file_extension": ".py",
   "mimetype": "text/x-python",
   "name": "python",
   "nbconvert_exporter": "python",
   "pygments_lexer": "ipython3",
   "version": "3.7.7"
  }
 },
 "nbformat": 4,
 "nbformat_minor": 4
}
